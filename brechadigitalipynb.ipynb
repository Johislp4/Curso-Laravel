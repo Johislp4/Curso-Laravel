{
  "nbformat": 4,
  "nbformat_minor": 0,
  "metadata": {
    "colab": {
      "private_outputs": true,
      "provenance": [],
      "include_colab_link": true
    },
    "kernelspec": {
      "name": "python3",
      "display_name": "Python 3"
    },
    "language_info": {
      "name": "python"
    }
  },
  "cells": [
    {
      "cell_type": "markdown",
      "metadata": {
        "id": "view-in-github",
        "colab_type": "text"
      },
      "source": [
        "<a href=\"https://colab.research.google.com/github/Johislp4/Curso-Laravel/blob/master/brechadigitalipynb.ipynb\" target=\"_parent\"><img src=\"https://colab.research.google.com/assets/colab-badge.svg\" alt=\"Open In Colab\"/></a>"
      ]
    },
    {
      "cell_type": "markdown",
      "source": [
        "#Presentación\n"
      ],
      "metadata": {
        "id": "2aiuFRgcuKwu"
      }
    },
    {
      "cell_type": "markdown",
      "source": [
        "##Test de la presentación"
      ],
      "metadata": {
        "id": "aEtuhRG0wIfN"
      }
    },
    {
      "cell_type": "markdown",
      "source": [
        "#Probando"
      ],
      "metadata": {
        "id": "Od7gZPNCv7s9"
      }
    },
    {
      "cell_type": "markdown",
      "source": [
        "#Justificación\n"
      ],
      "metadata": {
        "id": "taMMFhmxuQnu"
      }
    },
    {
      "cell_type": "markdown",
      "source": [
        "#ingestión de Datos"
      ],
      "metadata": {
        "id": "yGPpitScuTg2"
      }
    },
    {
      "cell_type": "markdown",
      "source": [
        "#Preparación y Limpieza"
      ],
      "metadata": {
        "id": "bh93NbG-uZRe"
      }
    },
    {
      "cell_type": "markdown",
      "source": [
        "#Analítica Descriptiva"
      ],
      "metadata": {
        "id": "GZMSg4dzueY-"
      }
    },
    {
      "cell_type": "markdown",
      "source": [
        "#Análisis de Negocio\n"
      ],
      "metadata": {
        "id": "Jp1uffYaujtW"
      }
    },
    {
      "cell_type": "markdown",
      "source": [],
      "metadata": {
        "id": "PaVlvCclur4m"
      }
    },
    {
      "cell_type": "markdown",
      "source": [],
      "metadata": {
        "id": "S_ni-isovAAu"
      }
    }
  ]
}